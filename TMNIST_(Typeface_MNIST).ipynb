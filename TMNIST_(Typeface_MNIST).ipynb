{
  "metadata": {
    "kernelspec": {
      "language": "python",
      "display_name": "Python 3",
      "name": "python3"
    },
    "language_info": {
      "name": "python",
      "version": "3.7.12",
      "mimetype": "text/x-python",
      "codemirror_mode": {
        "name": "ipython",
        "version": 3
      },
      "pygments_lexer": "ipython3",
      "nbconvert_exporter": "python",
      "file_extension": ".py"
    },
    "colab": {
      "name": "TMNIST (Typeface MNIST).ipynb",
      "provenance": []
    },
    "accelerator": "TPU"
  },
  "nbformat_minor": 0,
  "nbformat": 4,
  "cells": [
    {
      "cell_type": "markdown",
      "source": [
        "#TMNIST (Typeface MNIST)"
      ],
      "metadata": {
        "id": "o1sqKNKIQRu7"
      }
    },
    {
      "cell_type": "markdown",
      "source": [
        "# **Read DataSet**"
      ],
      "metadata": {
        "id": "YxFOEjiZQRu-"
      }
    },
    {
      "cell_type": "code",
      "source": [
        "import numpy as np\n",
        "import pandas as pd\n",
        "import random\n",
        "\n",
        "import matplotlib.pyplot as plt\n",
        "from sklearn.model_selection import train_test_split\n",
        "from sklearn.preprocessing import LabelEncoder\n",
        "\n",
        "from keras.models import Sequential\n",
        "from keras.layers import Dense\n",
        "from keras.layers import Dropout\n",
        "from keras.layers import Flatten\n",
        "from keras.callbacks import EarlyStopping\n",
        "from keras.layers.convolutional import Conv2D\n",
        "from keras.layers.convolutional import MaxPooling2D\n",
        "from keras.utils import np_utils"
      ],
      "metadata": {
        "id": "NC9bRimmhSRI"
      },
      "execution_count": 82,
      "outputs": []
    },
    {
      "cell_type": "code",
      "source": [
        "from google.colab import drive\n",
        "drive.mount('/content/drive')"
      ],
      "metadata": {
        "colab": {
          "base_uri": "https://localhost:8080/"
        },
        "id": "IwZJQSo8KVQJ",
        "outputId": "13d3304a-1dc7-4300-b745-7695c0dbe7b0"
      },
      "execution_count": 83,
      "outputs": [
        {
          "output_type": "stream",
          "name": "stdout",
          "text": [
            "Drive already mounted at /content/drive; to attempt to forcibly remount, call drive.mount(\"/content/drive\", force_remount=True).\n"
          ]
        }
      ]
    },
    {
      "cell_type": "code",
      "source": [
        "import pandas as pd\n",
        "path = \"/content/drive/MyDrive/Colab Notebooks/TMNIST_Data.csv\"\n",
        "data = pd.read_csv(path)"
      ],
      "metadata": {
        "id": "JmXB7AJ9DoYa"
      },
      "execution_count": null,
      "outputs": []
    },
    {
      "cell_type": "code",
      "source": [
        "data.head()"
      ],
      "metadata": {
        "id": "bNixx-KR304p"
      },
      "execution_count": null,
      "outputs": []
    },
    {
      "cell_type": "code",
      "source": [
        "data.shape"
      ],
      "metadata": {
        "id": "NQTEdOABST8S"
      },
      "execution_count": null,
      "outputs": []
    },
    {
      "cell_type": "code",
      "source": [
        "data.describe()"
      ],
      "metadata": {
        "id": "eakRK8aif2gJ"
      },
      "execution_count": null,
      "outputs": []
    },
    {
      "cell_type": "code",
      "source": [
        "print(data['names'].unique())"
      ],
      "metadata": {
        "id": "Z-wbKnLdgL_j"
      },
      "execution_count": null,
      "outputs": []
    },
    {
      "cell_type": "code",
      "source": [
        "data['names'].value_counts()"
      ],
      "metadata": {
        "id": "z26_ZU3FgSkr"
      },
      "execution_count": null,
      "outputs": []
    },
    {
      "cell_type": "markdown",
      "source": [
        "# Seperate Data to X and Y"
      ],
      "metadata": {
        "id": "C7YDCc2UQRu_"
      }
    },
    {
      "cell_type": "code",
      "source": [
        "X = data.drop(columns={'names','labels'})\n",
        "y = data[['labels']]"
      ],
      "metadata": {
        "execution": {
          "iopub.status.busy": "2022-04-02T01:06:43.571044Z",
          "iopub.execute_input": "2022-04-02T01:06:43.572991Z",
          "iopub.status.idle": "2022-04-02T01:06:44.313580Z",
          "shell.execute_reply.started": "2022-04-02T01:06:43.572901Z",
          "shell.execute_reply": "2022-04-02T01:06:44.312534Z"
        },
        "trusted": true,
        "id": "YzQl5FPjQRu_"
      },
      "execution_count": null,
      "outputs": []
    },
    {
      "cell_type": "markdown",
      "source": [
        "#Viewing Sample Data"
      ],
      "metadata": {
        "id": "L7Lio-gVl0ek"
      }
    },
    {
      "cell_type": "code",
      "source": [
        "import matplotlib.pyplot as plt\n",
        "\n",
        "X_images = X.values.reshape(-1,28,28)\n",
        "fig,axs = plt.subplots(2,9,figsize=(9,9))\n",
        "for i in range(18):\n",
        "    r=i//9\n",
        "    c=i%9\n",
        "    axs[r][c].set_xticks([])\n",
        "    axs[r][c].set_yticks([])\n",
        "    axs[r][c].imshow(X_images[i])\n",
        "plt.show()"
      ],
      "metadata": {
        "execution": {
          "iopub.status.busy": "2022-04-02T01:07:49.985554Z",
          "iopub.execute_input": "2022-04-02T01:07:49.985943Z",
          "iopub.status.idle": "2022-04-02T01:07:50.667439Z",
          "shell.execute_reply.started": "2022-04-02T01:07:49.985901Z",
          "shell.execute_reply": "2022-04-02T01:07:50.666860Z"
        },
        "trusted": true,
        "id": "iqPwR-cJQRvA"
      },
      "execution_count": null,
      "outputs": []
    },
    {
      "cell_type": "markdown",
      "source": [
        "# Seperating Training and Testing set"
      ],
      "metadata": {
        "id": "secNasSpQRvA"
      }
    },
    {
      "cell_type": "code",
      "source": [
        "from sklearn.model_selection import train_test_split\n",
        "# creating training set using 80% of data and test set using 20% of data.\n",
        "X_train, X_test, y_train, y_test = train_test_split(X, y, test_size=0.2)\n",
        "\n",
        "X_train = X_train.values.reshape(-1,28,28)\n",
        "X_test = X_test.values.reshape(-1,28,28)\n",
        "\n",
        "print(\"X_train shape : {}\".format(X_train.shape))\n",
        "\n",
        "print(\"X_test shape : {}\".format(X_test.shape))\n",
        "\n"
      ],
      "metadata": {
        "execution": {
          "iopub.status.busy": "2022-04-02T01:07:53.381232Z",
          "iopub.execute_input": "2022-04-02T01:07:53.382220Z",
          "iopub.status.idle": "2022-04-02T01:07:56.553166Z",
          "shell.execute_reply.started": "2022-04-02T01:07:53.382167Z",
          "shell.execute_reply": "2022-04-02T01:07:56.552326Z"
        },
        "trusted": true,
        "id": "QE2v0Hi0QRvA"
      },
      "execution_count": null,
      "outputs": []
    },
    {
      "cell_type": "code",
      "source": [
        "data['labels'].unique()"
      ],
      "metadata": {
        "id": "FEdz5MtnZLzS"
      },
      "execution_count": null,
      "outputs": []
    },
    {
      "cell_type": "code",
      "source": [
        "data['labels'].nunique()"
      ],
      "metadata": {
        "id": "dWoO7hyxZUj7"
      },
      "execution_count": null,
      "outputs": []
    },
    {
      "cell_type": "code",
      "source": [
        "# prepare target\n",
        "def prepare_targets(y_train, y_test):\n",
        "\tle = LabelEncoder()\n",
        "\tle.fit(y_train)\n",
        "\ty_train_enc = le.transform(y_train)\n",
        "\ty_test_enc = le.transform(y_test)\n",
        "\treturn y_train_enc, y_test_enc"
      ],
      "metadata": {
        "id": "h00cRFY6Vme0"
      },
      "execution_count": null,
      "outputs": []
    },
    {
      "cell_type": "code",
      "source": [
        "y_train_enc,y_test_enc = prepare_targets(y_train,y_test)"
      ],
      "metadata": {
        "id": "tFb2UTWGddBs"
      },
      "execution_count": null,
      "outputs": []
    },
    {
      "cell_type": "code",
      "source": [
        "X_train.shape, X_test.shape"
      ],
      "metadata": {
        "execution": {
          "iopub.status.busy": "2022-04-02T01:08:00.744091Z",
          "iopub.execute_input": "2022-04-02T01:08:00.744386Z",
          "iopub.status.idle": "2022-04-02T01:08:00.749847Z",
          "shell.execute_reply.started": "2022-04-02T01:08:00.744343Z",
          "shell.execute_reply": "2022-04-02T01:08:00.749261Z"
        },
        "trusted": true,
        "id": "rWgBzle8QRvA"
      },
      "execution_count": null,
      "outputs": []
    },
    {
      "cell_type": "code",
      "source": [
        "from tensorflow.keras.utils import to_categorical\n",
        "y_train_final = to_categorical(y_train_enc,94,dtype = 'int')\n",
        "y_test_final = to_categorical(y_test_enc,94,dtype = 'int')"
      ],
      "metadata": {
        "id": "jIfFlsSRd7Sz"
      },
      "execution_count": null,
      "outputs": []
    },
    {
      "cell_type": "code",
      "source": [
        "y_train_final.shape, y_test_final.shape"
      ],
      "metadata": {
        "execution": {
          "iopub.status.busy": "2022-04-02T01:08:02.738301Z",
          "iopub.execute_input": "2022-04-02T01:08:02.738720Z",
          "iopub.status.idle": "2022-04-02T01:08:02.746719Z",
          "shell.execute_reply.started": "2022-04-02T01:08:02.738681Z",
          "shell.execute_reply": "2022-04-02T01:08:02.745566Z"
        },
        "trusted": true,
        "id": "g8bDnnWGQRvA"
      },
      "execution_count": null,
      "outputs": []
    },
    {
      "cell_type": "markdown",
      "source": [
        "#Configuring input features for CNN."
      ],
      "metadata": {
        "id": "mQVQD5f3fcpc"
      }
    },
    {
      "cell_type": "code",
      "source": [
        "X_train = X_train.reshape(23920, 28, 28,1)\n",
        "X_test = X_test.reshape(5980, 28, 28,1)"
      ],
      "metadata": {
        "id": "6Fm4Wt5Kf3MH"
      },
      "execution_count": null,
      "outputs": []
    },
    {
      "cell_type": "code",
      "source": [
        "X_train.shape, X_test.shape"
      ],
      "metadata": {
        "id": "RO1afJxLgBn3"
      },
      "execution_count": null,
      "outputs": []
    },
    {
      "cell_type": "markdown",
      "source": [
        "# Normalizing the Dataset for the Neural Network"
      ],
      "metadata": {
        "id": "Z-CTtmAsQRvB"
      }
    },
    {
      "cell_type": "code",
      "source": [
        "X_train, X_test = X_train/255, X_test/255"
      ],
      "metadata": {
        "execution": {
          "iopub.status.busy": "2022-04-02T01:08:08.924559Z",
          "iopub.execute_input": "2022-04-02T01:08:08.924880Z",
          "iopub.status.idle": "2022-04-02T01:08:09.396896Z",
          "shell.execute_reply.started": "2022-04-02T01:08:08.924832Z",
          "shell.execute_reply": "2022-04-02T01:08:09.395774Z"
        },
        "trusted": true,
        "id": "Wt2nvbyhQRvB"
      },
      "execution_count": null,
      "outputs": []
    },
    {
      "cell_type": "markdown",
      "source": [
        "# Building Neural Network"
      ],
      "metadata": {
        "id": "YFi2OPaKQRvB"
      }
    },
    {
      "cell_type": "code",
      "source": [
        "import tensorflow as tf\n",
        "from tensorflow.keras import layers\n",
        "from tensorflow.keras.models import Sequential\n",
        "from tensorflow.keras.layers import Dense,BatchNormalization\n",
        "from sklearn.metrics import roc_auc_score, accuracy_score"
      ],
      "metadata": {
        "execution": {
          "iopub.status.busy": "2022-04-02T01:08:11.578195Z",
          "iopub.execute_input": "2022-04-02T01:08:11.578527Z",
          "iopub.status.idle": "2022-04-02T01:08:18.200779Z",
          "shell.execute_reply.started": "2022-04-02T01:08:11.578496Z",
          "shell.execute_reply": "2022-04-02T01:08:18.199872Z"
        },
        "trusted": true,
        "id": "u6a9Ltf1QRvB"
      },
      "execution_count": null,
      "outputs": []
    },
    {
      "cell_type": "code",
      "source": [
        "cnn = Sequential ()\n",
        "\n",
        "\n",
        "cnn.add(Conv2D(filters = 256 , kernel_size = (3,3) ,padding = 'same'))\n",
        "cnn.add(BatchNormalization())\n",
        "cnn.add(tf.keras.layers.Activation('relu'))\n",
        "cnn.add(MaxPooling2D(pool_size = (2,2)))\n",
        "cnn.add(Dropout(0.25))\n",
        "\n",
        "cnn.add(Flatten())\n",
        "cnn.add(Dense(350))\n",
        "cnn.add(BatchNormalization())\n",
        "cnn.add(tf.keras.layers.Activation('relu'))\n",
        "cnn.add(Dropout(0.25))\n",
        "cnn.add(Dense(y_train.nunique()[0], activation = 'softmax'))\n",
        "cnn.summary()"
      ],
      "metadata": {
        "id": "aN8b5QORjDz7"
      },
      "execution_count": null,
      "outputs": []
    },
    {
      "cell_type": "code",
      "source": [
        "cnn.compile(optimizer='adam',loss='categorical_crossentropy',metrics=['accuracy'])"
      ],
      "metadata": {
        "id": "O8xcgSwchClZ"
      },
      "execution_count": null,
      "outputs": []
    },
    {
      "cell_type": "markdown",
      "source": [
        "# Configure the model and start training"
      ],
      "metadata": {
        "id": "DpCQVilAQRvC"
      }
    },
    {
      "cell_type": "code",
      "source": [
        "cnn.fit(X_train, y_train_final, epochs=5, batch_size=2000, verbose=1, validation_split=0.15)"
      ],
      "metadata": {
        "execution": {
          "iopub.status.busy": "2022-04-02T01:08:34.990670Z",
          "iopub.execute_input": "2022-04-02T01:08:34.991022Z",
          "iopub.status.idle": "2022-04-02T01:25:07.853947Z",
          "shell.execute_reply.started": "2022-04-02T01:08:34.990986Z",
          "shell.execute_reply": "2022-04-02T01:25:07.853226Z"
        },
        "trusted": true,
        "id": "j1ye6S_lQRvC"
      },
      "execution_count": null,
      "outputs": []
    },
    {
      "cell_type": "markdown",
      "source": [
        "# Model Test after train"
      ],
      "metadata": {
        "id": "Q7zRYy07QRvC"
      }
    },
    {
      "cell_type": "code",
      "source": [
        "test_results = cnn.evaluate(X_test, y_test_final, verbose=1)\n",
        "print(f'Testing set results - Accuracy: {test_results[1]}%')"
      ],
      "metadata": {
        "execution": {
          "iopub.status.busy": "2022-04-02T01:29:10.449024Z",
          "iopub.execute_input": "2022-04-02T01:29:10.450061Z",
          "iopub.status.idle": "2022-04-02T01:29:16.978078Z",
          "shell.execute_reply.started": "2022-04-02T01:29:10.449993Z",
          "shell.execute_reply": "2022-04-02T01:29:16.977103Z"
        },
        "trusted": true,
        "id": "H_ybiuRoQRvC"
      },
      "execution_count": null,
      "outputs": []
    },
    {
      "cell_type": "markdown",
      "source": [
        "# Model Testing after training with Sklearn"
      ],
      "metadata": {
        "id": "s48WgxLjQRvD"
      }
    },
    {
      "cell_type": "code",
      "source": [
        "prediction = cnn.predict(X_test)\n",
        "prediction = lb.inverse_transform(prediction)\n",
        "print(f'Testing prediction results - Accuracy: {accuracy_score(y_test, prediction)*100}%')"
      ],
      "metadata": {
        "execution": {
          "iopub.status.busy": "2022-04-02T01:29:19.696920Z",
          "iopub.execute_input": "2022-04-02T01:29:19.697471Z",
          "iopub.status.idle": "2022-04-02T01:29:24.282858Z",
          "shell.execute_reply.started": "2022-04-02T01:29:19.697422Z",
          "shell.execute_reply": "2022-04-02T01:29:24.279975Z"
        },
        "trusted": true,
        "id": "5b9QR9NLQRvD"
      },
      "execution_count": null,
      "outputs": []
    },
    {
      "cell_type": "code",
      "source": [
        ""
      ],
      "metadata": {
        "id": "ae2Wgn9kk_Uj"
      },
      "execution_count": null,
      "outputs": []
    }
  ]
}