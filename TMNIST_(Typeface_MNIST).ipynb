{
  "metadata": {
    "kernelspec": {
      "language": "python",
      "display_name": "Python 3",
      "name": "python3"
    },
    "language_info": {
      "name": "python",
      "version": "3.7.12",
      "mimetype": "text/x-python",
      "codemirror_mode": {
        "name": "ipython",
        "version": 3
      },
      "pygments_lexer": "ipython3",
      "nbconvert_exporter": "python",
      "file_extension": ".py"
    },
    "colab": {
      "name": "TMNIST_Typeface_MNIST.ipynb",
      "provenance": [],
      "collapsed_sections": []
    },
    "accelerator": "TPU"
  },
  "nbformat_minor": 0,
  "nbformat": 4,
  "cells": [
    {
      "cell_type": "markdown",
      "source": [
        "#TMNIST (Typeface MNIST)"
      ],
      "metadata": {
        "id": "o1sqKNKIQRu7"
      }
    },
    {
      "cell_type": "markdown",
      "source": [
        "# **Read DataSet**"
      ],
      "metadata": {
        "id": "YxFOEjiZQRu-"
      }
    },
    {
      "cell_type": "code",
      "source": [
        "import numpy as np\n",
        "import pandas as pd\n",
        "import random\n",
        "\n",
        "import matplotlib.pyplot as plt\n",
        "from sklearn.model_selection import train_test_split\n",
        "from sklearn.preprocessing import LabelEncoder,LabelBinarizer\n",
        "\n",
        "from keras.models import Sequential\n",
        "from keras.layers import Dense\n",
        "from keras.layers import Dropout\n",
        "from keras.layers import Flatten\n",
        "from keras.callbacks import EarlyStopping\n",
        "from keras.layers.convolutional import Conv2D\n",
        "from keras.layers.convolutional import MaxPooling2D\n",
        "from keras.utils import np_utils"
      ],
      "metadata": {
        "id": "NC9bRimmhSRI"
      },
      "execution_count": null,
      "outputs": []
    },
    {
      "cell_type": "code",
      "source": [
        "from google.colab import drive\n",
        "drive.mount('/content/drive')"
      ],
      "metadata": {
        "colab": {
          "base_uri": "https://localhost:8080/"
        },
        "id": "IwZJQSo8KVQJ",
        "outputId": "320d9aa9-e71f-4949-f7bf-4ba6af246e71"
      },
      "execution_count": null,
      "outputs": [
        {
          "output_type": "stream",
          "name": "stdout",
          "text": [
            "Drive already mounted at /content/drive; to attempt to forcibly remount, call drive.mount(\"/content/drive\", force_remount=True).\n"
          ]
        }
      ]
    },
    {
      "cell_type": "code",
      "source": [
        "import pandas as pd\n",
        "path = \"/content/drive/MyDrive/Samanth/TMNIST_Data.csv\"\n",
        "data = pd.read_csv(path)"
      ],
      "metadata": {
        "id": "JmXB7AJ9DoYa"
      },
      "execution_count": null,
      "outputs": []
    },
    {
      "cell_type": "code",
      "source": [
        "data.head()"
      ],
      "metadata": {
        "id": "bNixx-KR304p",
        "colab": {
          "base_uri": "https://localhost:8080/",
          "height": 235
        },
        "outputId": "ba544d15-00b3-47b3-d53b-901f0da9b954"
      },
      "execution_count": null,
      "outputs": [
        {
          "output_type": "execute_result",
          "data": {
            "text/plain": [
              "                        names  labels  1  2  3  4  5  6  7  8  ...  775  776  \\\n",
              "0          GrandHotel-Regular       2  0  0  0  0  0  0  0  0  ...    0    0   \n",
              "1  EncodeSansCondensed-Medium       8  0  0  0  0  0  0  0  0  ...    0    0   \n",
              "2              Varela-Regular       4  0  0  0  0  0  0  0  0  ...    0    0   \n",
              "3              ArefRuqaa-Bold       3  0  0  0  0  0  0  0  0  ...    0    0   \n",
              "4           KulimPark-Regular       1  0  0  0  0  0  0  0  0  ...    0    0   \n",
              "\n",
              "   777  778  779  780  781  782  783  784  \n",
              "0    0    0    0    0    0    0    0    0  \n",
              "1    0    0    0    0    0    0    0    0  \n",
              "2    0    0    0    0    0    0    0    0  \n",
              "3    0    0    0    0    0    0    0    0  \n",
              "4    0    0    0    0    0    0    0    0  \n",
              "\n",
              "[5 rows x 786 columns]"
            ],
            "text/html": [
              "\n",
              "  <div id=\"df-18e6b6ba-c71f-4c4b-868a-3572e0f9a6a1\">\n",
              "    <div class=\"colab-df-container\">\n",
              "      <div>\n",
              "<style scoped>\n",
              "    .dataframe tbody tr th:only-of-type {\n",
              "        vertical-align: middle;\n",
              "    }\n",
              "\n",
              "    .dataframe tbody tr th {\n",
              "        vertical-align: top;\n",
              "    }\n",
              "\n",
              "    .dataframe thead th {\n",
              "        text-align: right;\n",
              "    }\n",
              "</style>\n",
              "<table border=\"1\" class=\"dataframe\">\n",
              "  <thead>\n",
              "    <tr style=\"text-align: right;\">\n",
              "      <th></th>\n",
              "      <th>names</th>\n",
              "      <th>labels</th>\n",
              "      <th>1</th>\n",
              "      <th>2</th>\n",
              "      <th>3</th>\n",
              "      <th>4</th>\n",
              "      <th>5</th>\n",
              "      <th>6</th>\n",
              "      <th>7</th>\n",
              "      <th>8</th>\n",
              "      <th>...</th>\n",
              "      <th>775</th>\n",
              "      <th>776</th>\n",
              "      <th>777</th>\n",
              "      <th>778</th>\n",
              "      <th>779</th>\n",
              "      <th>780</th>\n",
              "      <th>781</th>\n",
              "      <th>782</th>\n",
              "      <th>783</th>\n",
              "      <th>784</th>\n",
              "    </tr>\n",
              "  </thead>\n",
              "  <tbody>\n",
              "    <tr>\n",
              "      <th>0</th>\n",
              "      <td>GrandHotel-Regular</td>\n",
              "      <td>2</td>\n",
              "      <td>0</td>\n",
              "      <td>0</td>\n",
              "      <td>0</td>\n",
              "      <td>0</td>\n",
              "      <td>0</td>\n",
              "      <td>0</td>\n",
              "      <td>0</td>\n",
              "      <td>0</td>\n",
              "      <td>...</td>\n",
              "      <td>0</td>\n",
              "      <td>0</td>\n",
              "      <td>0</td>\n",
              "      <td>0</td>\n",
              "      <td>0</td>\n",
              "      <td>0</td>\n",
              "      <td>0</td>\n",
              "      <td>0</td>\n",
              "      <td>0</td>\n",
              "      <td>0</td>\n",
              "    </tr>\n",
              "    <tr>\n",
              "      <th>1</th>\n",
              "      <td>EncodeSansCondensed-Medium</td>\n",
              "      <td>8</td>\n",
              "      <td>0</td>\n",
              "      <td>0</td>\n",
              "      <td>0</td>\n",
              "      <td>0</td>\n",
              "      <td>0</td>\n",
              "      <td>0</td>\n",
              "      <td>0</td>\n",
              "      <td>0</td>\n",
              "      <td>...</td>\n",
              "      <td>0</td>\n",
              "      <td>0</td>\n",
              "      <td>0</td>\n",
              "      <td>0</td>\n",
              "      <td>0</td>\n",
              "      <td>0</td>\n",
              "      <td>0</td>\n",
              "      <td>0</td>\n",
              "      <td>0</td>\n",
              "      <td>0</td>\n",
              "    </tr>\n",
              "    <tr>\n",
              "      <th>2</th>\n",
              "      <td>Varela-Regular</td>\n",
              "      <td>4</td>\n",
              "      <td>0</td>\n",
              "      <td>0</td>\n",
              "      <td>0</td>\n",
              "      <td>0</td>\n",
              "      <td>0</td>\n",
              "      <td>0</td>\n",
              "      <td>0</td>\n",
              "      <td>0</td>\n",
              "      <td>...</td>\n",
              "      <td>0</td>\n",
              "      <td>0</td>\n",
              "      <td>0</td>\n",
              "      <td>0</td>\n",
              "      <td>0</td>\n",
              "      <td>0</td>\n",
              "      <td>0</td>\n",
              "      <td>0</td>\n",
              "      <td>0</td>\n",
              "      <td>0</td>\n",
              "    </tr>\n",
              "    <tr>\n",
              "      <th>3</th>\n",
              "      <td>ArefRuqaa-Bold</td>\n",
              "      <td>3</td>\n",
              "      <td>0</td>\n",
              "      <td>0</td>\n",
              "      <td>0</td>\n",
              "      <td>0</td>\n",
              "      <td>0</td>\n",
              "      <td>0</td>\n",
              "      <td>0</td>\n",
              "      <td>0</td>\n",
              "      <td>...</td>\n",
              "      <td>0</td>\n",
              "      <td>0</td>\n",
              "      <td>0</td>\n",
              "      <td>0</td>\n",
              "      <td>0</td>\n",
              "      <td>0</td>\n",
              "      <td>0</td>\n",
              "      <td>0</td>\n",
              "      <td>0</td>\n",
              "      <td>0</td>\n",
              "    </tr>\n",
              "    <tr>\n",
              "      <th>4</th>\n",
              "      <td>KulimPark-Regular</td>\n",
              "      <td>1</td>\n",
              "      <td>0</td>\n",
              "      <td>0</td>\n",
              "      <td>0</td>\n",
              "      <td>0</td>\n",
              "      <td>0</td>\n",
              "      <td>0</td>\n",
              "      <td>0</td>\n",
              "      <td>0</td>\n",
              "      <td>...</td>\n",
              "      <td>0</td>\n",
              "      <td>0</td>\n",
              "      <td>0</td>\n",
              "      <td>0</td>\n",
              "      <td>0</td>\n",
              "      <td>0</td>\n",
              "      <td>0</td>\n",
              "      <td>0</td>\n",
              "      <td>0</td>\n",
              "      <td>0</td>\n",
              "    </tr>\n",
              "  </tbody>\n",
              "</table>\n",
              "<p>5 rows × 786 columns</p>\n",
              "</div>\n",
              "      <button class=\"colab-df-convert\" onclick=\"convertToInteractive('df-18e6b6ba-c71f-4c4b-868a-3572e0f9a6a1')\"\n",
              "              title=\"Convert this dataframe to an interactive table.\"\n",
              "              style=\"display:none;\">\n",
              "        \n",
              "  <svg xmlns=\"http://www.w3.org/2000/svg\" height=\"24px\"viewBox=\"0 0 24 24\"\n",
              "       width=\"24px\">\n",
              "    <path d=\"M0 0h24v24H0V0z\" fill=\"none\"/>\n",
              "    <path d=\"M18.56 5.44l.94 2.06.94-2.06 2.06-.94-2.06-.94-.94-2.06-.94 2.06-2.06.94zm-11 1L8.5 8.5l.94-2.06 2.06-.94-2.06-.94L8.5 2.5l-.94 2.06-2.06.94zm10 10l.94 2.06.94-2.06 2.06-.94-2.06-.94-.94-2.06-.94 2.06-2.06.94z\"/><path d=\"M17.41 7.96l-1.37-1.37c-.4-.4-.92-.59-1.43-.59-.52 0-1.04.2-1.43.59L10.3 9.45l-7.72 7.72c-.78.78-.78 2.05 0 2.83L4 21.41c.39.39.9.59 1.41.59.51 0 1.02-.2 1.41-.59l7.78-7.78 2.81-2.81c.8-.78.8-2.07 0-2.86zM5.41 20L4 18.59l7.72-7.72 1.47 1.35L5.41 20z\"/>\n",
              "  </svg>\n",
              "      </button>\n",
              "      \n",
              "  <style>\n",
              "    .colab-df-container {\n",
              "      display:flex;\n",
              "      flex-wrap:wrap;\n",
              "      gap: 12px;\n",
              "    }\n",
              "\n",
              "    .colab-df-convert {\n",
              "      background-color: #E8F0FE;\n",
              "      border: none;\n",
              "      border-radius: 50%;\n",
              "      cursor: pointer;\n",
              "      display: none;\n",
              "      fill: #1967D2;\n",
              "      height: 32px;\n",
              "      padding: 0 0 0 0;\n",
              "      width: 32px;\n",
              "    }\n",
              "\n",
              "    .colab-df-convert:hover {\n",
              "      background-color: #E2EBFA;\n",
              "      box-shadow: 0px 1px 2px rgba(60, 64, 67, 0.3), 0px 1px 3px 1px rgba(60, 64, 67, 0.15);\n",
              "      fill: #174EA6;\n",
              "    }\n",
              "\n",
              "    [theme=dark] .colab-df-convert {\n",
              "      background-color: #3B4455;\n",
              "      fill: #D2E3FC;\n",
              "    }\n",
              "\n",
              "    [theme=dark] .colab-df-convert:hover {\n",
              "      background-color: #434B5C;\n",
              "      box-shadow: 0px 1px 3px 1px rgba(0, 0, 0, 0.15);\n",
              "      filter: drop-shadow(0px 1px 2px rgba(0, 0, 0, 0.3));\n",
              "      fill: #FFFFFF;\n",
              "    }\n",
              "  </style>\n",
              "\n",
              "      <script>\n",
              "        const buttonEl =\n",
              "          document.querySelector('#df-18e6b6ba-c71f-4c4b-868a-3572e0f9a6a1 button.colab-df-convert');\n",
              "        buttonEl.style.display =\n",
              "          google.colab.kernel.accessAllowed ? 'block' : 'none';\n",
              "\n",
              "        async function convertToInteractive(key) {\n",
              "          const element = document.querySelector('#df-18e6b6ba-c71f-4c4b-868a-3572e0f9a6a1');\n",
              "          const dataTable =\n",
              "            await google.colab.kernel.invokeFunction('convertToInteractive',\n",
              "                                                     [key], {});\n",
              "          if (!dataTable) return;\n",
              "\n",
              "          const docLinkHtml = 'Like what you see? Visit the ' +\n",
              "            '<a target=\"_blank\" href=https://colab.research.google.com/notebooks/data_table.ipynb>data table notebook</a>'\n",
              "            + ' to learn more about interactive tables.';\n",
              "          element.innerHTML = '';\n",
              "          dataTable['output_type'] = 'display_data';\n",
              "          await google.colab.output.renderOutput(dataTable, element);\n",
              "          const docLink = document.createElement('div');\n",
              "          docLink.innerHTML = docLinkHtml;\n",
              "          element.appendChild(docLink);\n",
              "        }\n",
              "      </script>\n",
              "    </div>\n",
              "  </div>\n",
              "  "
            ]
          },
          "metadata": {},
          "execution_count": 59
        }
      ]
    },
    {
      "cell_type": "code",
      "source": [
        "data.shape"
      ],
      "metadata": {
        "id": "NQTEdOABST8S",
        "colab": {
          "base_uri": "https://localhost:8080/"
        },
        "outputId": "454dcae5-3d6e-4524-b270-e31a93ed229f"
      },
      "execution_count": null,
      "outputs": [
        {
          "output_type": "execute_result",
          "data": {
            "text/plain": [
              "(29900, 786)"
            ]
          },
          "metadata": {},
          "execution_count": 60
        }
      ]
    },
    {
      "cell_type": "code",
      "source": [
        "data.describe()"
      ],
      "metadata": {
        "id": "eakRK8aif2gJ",
        "colab": {
          "base_uri": "https://localhost:8080/",
          "height": 393
        },
        "outputId": "bd526096-ea0e-480f-f261-cad70d2d5c28"
      },
      "execution_count": null,
      "outputs": [
        {
          "output_type": "execute_result",
          "data": {
            "text/plain": [
              "             labels        1        2        3        4        5        6  \\\n",
              "count  29900.000000  29900.0  29900.0  29900.0  29900.0  29900.0  29900.0   \n",
              "mean       4.500000      0.0      0.0      0.0      0.0      0.0      0.0   \n",
              "std        2.872329      0.0      0.0      0.0      0.0      0.0      0.0   \n",
              "min        0.000000      0.0      0.0      0.0      0.0      0.0      0.0   \n",
              "25%        2.000000      0.0      0.0      0.0      0.0      0.0      0.0   \n",
              "50%        4.500000      0.0      0.0      0.0      0.0      0.0      0.0   \n",
              "75%        7.000000      0.0      0.0      0.0      0.0      0.0      0.0   \n",
              "max        9.000000      0.0      0.0      0.0      0.0      0.0      0.0   \n",
              "\n",
              "             7        8        9  ...           775           776      777  \\\n",
              "count  29900.0  29900.0  29900.0  ...  29900.000000  29900.000000  29900.0   \n",
              "mean       0.0      0.0      0.0  ...      0.003445      0.000033      0.0   \n",
              "std        0.0      0.0      0.0  ...      0.493058      0.005783      0.0   \n",
              "min        0.0      0.0      0.0  ...      0.000000      0.000000      0.0   \n",
              "25%        0.0      0.0      0.0  ...      0.000000      0.000000      0.0   \n",
              "50%        0.0      0.0      0.0  ...      0.000000      0.000000      0.0   \n",
              "75%        0.0      0.0      0.0  ...      0.000000      0.000000      0.0   \n",
              "max        0.0      0.0      0.0  ...     84.000000      1.000000      0.0   \n",
              "\n",
              "           778      779      780      781      782      783      784  \n",
              "count  29900.0  29900.0  29900.0  29900.0  29900.0  29900.0  29900.0  \n",
              "mean       0.0      0.0      0.0      0.0      0.0      0.0      0.0  \n",
              "std        0.0      0.0      0.0      0.0      0.0      0.0      0.0  \n",
              "min        0.0      0.0      0.0      0.0      0.0      0.0      0.0  \n",
              "25%        0.0      0.0      0.0      0.0      0.0      0.0      0.0  \n",
              "50%        0.0      0.0      0.0      0.0      0.0      0.0      0.0  \n",
              "75%        0.0      0.0      0.0      0.0      0.0      0.0      0.0  \n",
              "max        0.0      0.0      0.0      0.0      0.0      0.0      0.0  \n",
              "\n",
              "[8 rows x 785 columns]"
            ],
            "text/html": [
              "\n",
              "  <div id=\"df-0afd90c0-90ba-4c6a-a2db-5f0947fe172e\">\n",
              "    <div class=\"colab-df-container\">\n",
              "      <div>\n",
              "<style scoped>\n",
              "    .dataframe tbody tr th:only-of-type {\n",
              "        vertical-align: middle;\n",
              "    }\n",
              "\n",
              "    .dataframe tbody tr th {\n",
              "        vertical-align: top;\n",
              "    }\n",
              "\n",
              "    .dataframe thead th {\n",
              "        text-align: right;\n",
              "    }\n",
              "</style>\n",
              "<table border=\"1\" class=\"dataframe\">\n",
              "  <thead>\n",
              "    <tr style=\"text-align: right;\">\n",
              "      <th></th>\n",
              "      <th>labels</th>\n",
              "      <th>1</th>\n",
              "      <th>2</th>\n",
              "      <th>3</th>\n",
              "      <th>4</th>\n",
              "      <th>5</th>\n",
              "      <th>6</th>\n",
              "      <th>7</th>\n",
              "      <th>8</th>\n",
              "      <th>9</th>\n",
              "      <th>...</th>\n",
              "      <th>775</th>\n",
              "      <th>776</th>\n",
              "      <th>777</th>\n",
              "      <th>778</th>\n",
              "      <th>779</th>\n",
              "      <th>780</th>\n",
              "      <th>781</th>\n",
              "      <th>782</th>\n",
              "      <th>783</th>\n",
              "      <th>784</th>\n",
              "    </tr>\n",
              "  </thead>\n",
              "  <tbody>\n",
              "    <tr>\n",
              "      <th>count</th>\n",
              "      <td>29900.000000</td>\n",
              "      <td>29900.0</td>\n",
              "      <td>29900.0</td>\n",
              "      <td>29900.0</td>\n",
              "      <td>29900.0</td>\n",
              "      <td>29900.0</td>\n",
              "      <td>29900.0</td>\n",
              "      <td>29900.0</td>\n",
              "      <td>29900.0</td>\n",
              "      <td>29900.0</td>\n",
              "      <td>...</td>\n",
              "      <td>29900.000000</td>\n",
              "      <td>29900.000000</td>\n",
              "      <td>29900.0</td>\n",
              "      <td>29900.0</td>\n",
              "      <td>29900.0</td>\n",
              "      <td>29900.0</td>\n",
              "      <td>29900.0</td>\n",
              "      <td>29900.0</td>\n",
              "      <td>29900.0</td>\n",
              "      <td>29900.0</td>\n",
              "    </tr>\n",
              "    <tr>\n",
              "      <th>mean</th>\n",
              "      <td>4.500000</td>\n",
              "      <td>0.0</td>\n",
              "      <td>0.0</td>\n",
              "      <td>0.0</td>\n",
              "      <td>0.0</td>\n",
              "      <td>0.0</td>\n",
              "      <td>0.0</td>\n",
              "      <td>0.0</td>\n",
              "      <td>0.0</td>\n",
              "      <td>0.0</td>\n",
              "      <td>...</td>\n",
              "      <td>0.003445</td>\n",
              "      <td>0.000033</td>\n",
              "      <td>0.0</td>\n",
              "      <td>0.0</td>\n",
              "      <td>0.0</td>\n",
              "      <td>0.0</td>\n",
              "      <td>0.0</td>\n",
              "      <td>0.0</td>\n",
              "      <td>0.0</td>\n",
              "      <td>0.0</td>\n",
              "    </tr>\n",
              "    <tr>\n",
              "      <th>std</th>\n",
              "      <td>2.872329</td>\n",
              "      <td>0.0</td>\n",
              "      <td>0.0</td>\n",
              "      <td>0.0</td>\n",
              "      <td>0.0</td>\n",
              "      <td>0.0</td>\n",
              "      <td>0.0</td>\n",
              "      <td>0.0</td>\n",
              "      <td>0.0</td>\n",
              "      <td>0.0</td>\n",
              "      <td>...</td>\n",
              "      <td>0.493058</td>\n",
              "      <td>0.005783</td>\n",
              "      <td>0.0</td>\n",
              "      <td>0.0</td>\n",
              "      <td>0.0</td>\n",
              "      <td>0.0</td>\n",
              "      <td>0.0</td>\n",
              "      <td>0.0</td>\n",
              "      <td>0.0</td>\n",
              "      <td>0.0</td>\n",
              "    </tr>\n",
              "    <tr>\n",
              "      <th>min</th>\n",
              "      <td>0.000000</td>\n",
              "      <td>0.0</td>\n",
              "      <td>0.0</td>\n",
              "      <td>0.0</td>\n",
              "      <td>0.0</td>\n",
              "      <td>0.0</td>\n",
              "      <td>0.0</td>\n",
              "      <td>0.0</td>\n",
              "      <td>0.0</td>\n",
              "      <td>0.0</td>\n",
              "      <td>...</td>\n",
              "      <td>0.000000</td>\n",
              "      <td>0.000000</td>\n",
              "      <td>0.0</td>\n",
              "      <td>0.0</td>\n",
              "      <td>0.0</td>\n",
              "      <td>0.0</td>\n",
              "      <td>0.0</td>\n",
              "      <td>0.0</td>\n",
              "      <td>0.0</td>\n",
              "      <td>0.0</td>\n",
              "    </tr>\n",
              "    <tr>\n",
              "      <th>25%</th>\n",
              "      <td>2.000000</td>\n",
              "      <td>0.0</td>\n",
              "      <td>0.0</td>\n",
              "      <td>0.0</td>\n",
              "      <td>0.0</td>\n",
              "      <td>0.0</td>\n",
              "      <td>0.0</td>\n",
              "      <td>0.0</td>\n",
              "      <td>0.0</td>\n",
              "      <td>0.0</td>\n",
              "      <td>...</td>\n",
              "      <td>0.000000</td>\n",
              "      <td>0.000000</td>\n",
              "      <td>0.0</td>\n",
              "      <td>0.0</td>\n",
              "      <td>0.0</td>\n",
              "      <td>0.0</td>\n",
              "      <td>0.0</td>\n",
              "      <td>0.0</td>\n",
              "      <td>0.0</td>\n",
              "      <td>0.0</td>\n",
              "    </tr>\n",
              "    <tr>\n",
              "      <th>50%</th>\n",
              "      <td>4.500000</td>\n",
              "      <td>0.0</td>\n",
              "      <td>0.0</td>\n",
              "      <td>0.0</td>\n",
              "      <td>0.0</td>\n",
              "      <td>0.0</td>\n",
              "      <td>0.0</td>\n",
              "      <td>0.0</td>\n",
              "      <td>0.0</td>\n",
              "      <td>0.0</td>\n",
              "      <td>...</td>\n",
              "      <td>0.000000</td>\n",
              "      <td>0.000000</td>\n",
              "      <td>0.0</td>\n",
              "      <td>0.0</td>\n",
              "      <td>0.0</td>\n",
              "      <td>0.0</td>\n",
              "      <td>0.0</td>\n",
              "      <td>0.0</td>\n",
              "      <td>0.0</td>\n",
              "      <td>0.0</td>\n",
              "    </tr>\n",
              "    <tr>\n",
              "      <th>75%</th>\n",
              "      <td>7.000000</td>\n",
              "      <td>0.0</td>\n",
              "      <td>0.0</td>\n",
              "      <td>0.0</td>\n",
              "      <td>0.0</td>\n",
              "      <td>0.0</td>\n",
              "      <td>0.0</td>\n",
              "      <td>0.0</td>\n",
              "      <td>0.0</td>\n",
              "      <td>0.0</td>\n",
              "      <td>...</td>\n",
              "      <td>0.000000</td>\n",
              "      <td>0.000000</td>\n",
              "      <td>0.0</td>\n",
              "      <td>0.0</td>\n",
              "      <td>0.0</td>\n",
              "      <td>0.0</td>\n",
              "      <td>0.0</td>\n",
              "      <td>0.0</td>\n",
              "      <td>0.0</td>\n",
              "      <td>0.0</td>\n",
              "    </tr>\n",
              "    <tr>\n",
              "      <th>max</th>\n",
              "      <td>9.000000</td>\n",
              "      <td>0.0</td>\n",
              "      <td>0.0</td>\n",
              "      <td>0.0</td>\n",
              "      <td>0.0</td>\n",
              "      <td>0.0</td>\n",
              "      <td>0.0</td>\n",
              "      <td>0.0</td>\n",
              "      <td>0.0</td>\n",
              "      <td>0.0</td>\n",
              "      <td>...</td>\n",
              "      <td>84.000000</td>\n",
              "      <td>1.000000</td>\n",
              "      <td>0.0</td>\n",
              "      <td>0.0</td>\n",
              "      <td>0.0</td>\n",
              "      <td>0.0</td>\n",
              "      <td>0.0</td>\n",
              "      <td>0.0</td>\n",
              "      <td>0.0</td>\n",
              "      <td>0.0</td>\n",
              "    </tr>\n",
              "  </tbody>\n",
              "</table>\n",
              "<p>8 rows × 785 columns</p>\n",
              "</div>\n",
              "      <button class=\"colab-df-convert\" onclick=\"convertToInteractive('df-0afd90c0-90ba-4c6a-a2db-5f0947fe172e')\"\n",
              "              title=\"Convert this dataframe to an interactive table.\"\n",
              "              style=\"display:none;\">\n",
              "        \n",
              "  <svg xmlns=\"http://www.w3.org/2000/svg\" height=\"24px\"viewBox=\"0 0 24 24\"\n",
              "       width=\"24px\">\n",
              "    <path d=\"M0 0h24v24H0V0z\" fill=\"none\"/>\n",
              "    <path d=\"M18.56 5.44l.94 2.06.94-2.06 2.06-.94-2.06-.94-.94-2.06-.94 2.06-2.06.94zm-11 1L8.5 8.5l.94-2.06 2.06-.94-2.06-.94L8.5 2.5l-.94 2.06-2.06.94zm10 10l.94 2.06.94-2.06 2.06-.94-2.06-.94-.94-2.06-.94 2.06-2.06.94z\"/><path d=\"M17.41 7.96l-1.37-1.37c-.4-.4-.92-.59-1.43-.59-.52 0-1.04.2-1.43.59L10.3 9.45l-7.72 7.72c-.78.78-.78 2.05 0 2.83L4 21.41c.39.39.9.59 1.41.59.51 0 1.02-.2 1.41-.59l7.78-7.78 2.81-2.81c.8-.78.8-2.07 0-2.86zM5.41 20L4 18.59l7.72-7.72 1.47 1.35L5.41 20z\"/>\n",
              "  </svg>\n",
              "      </button>\n",
              "      \n",
              "  <style>\n",
              "    .colab-df-container {\n",
              "      display:flex;\n",
              "      flex-wrap:wrap;\n",
              "      gap: 12px;\n",
              "    }\n",
              "\n",
              "    .colab-df-convert {\n",
              "      background-color: #E8F0FE;\n",
              "      border: none;\n",
              "      border-radius: 50%;\n",
              "      cursor: pointer;\n",
              "      display: none;\n",
              "      fill: #1967D2;\n",
              "      height: 32px;\n",
              "      padding: 0 0 0 0;\n",
              "      width: 32px;\n",
              "    }\n",
              "\n",
              "    .colab-df-convert:hover {\n",
              "      background-color: #E2EBFA;\n",
              "      box-shadow: 0px 1px 2px rgba(60, 64, 67, 0.3), 0px 1px 3px 1px rgba(60, 64, 67, 0.15);\n",
              "      fill: #174EA6;\n",
              "    }\n",
              "\n",
              "    [theme=dark] .colab-df-convert {\n",
              "      background-color: #3B4455;\n",
              "      fill: #D2E3FC;\n",
              "    }\n",
              "\n",
              "    [theme=dark] .colab-df-convert:hover {\n",
              "      background-color: #434B5C;\n",
              "      box-shadow: 0px 1px 3px 1px rgba(0, 0, 0, 0.15);\n",
              "      filter: drop-shadow(0px 1px 2px rgba(0, 0, 0, 0.3));\n",
              "      fill: #FFFFFF;\n",
              "    }\n",
              "  </style>\n",
              "\n",
              "      <script>\n",
              "        const buttonEl =\n",
              "          document.querySelector('#df-0afd90c0-90ba-4c6a-a2db-5f0947fe172e button.colab-df-convert');\n",
              "        buttonEl.style.display =\n",
              "          google.colab.kernel.accessAllowed ? 'block' : 'none';\n",
              "\n",
              "        async function convertToInteractive(key) {\n",
              "          const element = document.querySelector('#df-0afd90c0-90ba-4c6a-a2db-5f0947fe172e');\n",
              "          const dataTable =\n",
              "            await google.colab.kernel.invokeFunction('convertToInteractive',\n",
              "                                                     [key], {});\n",
              "          if (!dataTable) return;\n",
              "\n",
              "          const docLinkHtml = 'Like what you see? Visit the ' +\n",
              "            '<a target=\"_blank\" href=https://colab.research.google.com/notebooks/data_table.ipynb>data table notebook</a>'\n",
              "            + ' to learn more about interactive tables.';\n",
              "          element.innerHTML = '';\n",
              "          dataTable['output_type'] = 'display_data';\n",
              "          await google.colab.output.renderOutput(dataTable, element);\n",
              "          const docLink = document.createElement('div');\n",
              "          docLink.innerHTML = docLinkHtml;\n",
              "          element.appendChild(docLink);\n",
              "        }\n",
              "      </script>\n",
              "    </div>\n",
              "  </div>\n",
              "  "
            ]
          },
          "metadata": {},
          "execution_count": 61
        }
      ]
    },
    {
      "cell_type": "code",
      "source": [
        "print(data['names'].unique())"
      ],
      "metadata": {
        "id": "Z-wbKnLdgL_j",
        "colab": {
          "base_uri": "https://localhost:8080/"
        },
        "outputId": "899af4b6-280b-420e-fd17-050c5ca61134"
      },
      "execution_count": null,
      "outputs": [
        {
          "output_type": "stream",
          "name": "stdout",
          "text": [
            "['GrandHotel-Regular' 'EncodeSansCondensed-Medium' 'Varela-Regular' ...\n",
            " 'CourierPrime-Italic' 'Bentham-Regular' 'AveriaSerifLibre-Ligh']\n"
          ]
        }
      ]
    },
    {
      "cell_type": "code",
      "source": [
        "data['names'].value_counts()"
      ],
      "metadata": {
        "id": "z26_ZU3FgSkr",
        "colab": {
          "base_uri": "https://localhost:8080/"
        },
        "outputId": "588386d7-bcfc-40b4-866f-8578db4da02e"
      },
      "execution_count": null,
      "outputs": [
        {
          "output_type": "execute_result",
          "data": {
            "text/plain": [
              "GrandHotel-Regular          10\n",
              "Laila-Regular               10\n",
              "Tajawal-Medium              10\n",
              "Numans-Regular              10\n",
              "PT_Sans-Web-Italic          10\n",
              "                            ..\n",
              "Thasadith-Bold              10\n",
              "CherryBomb-Regular          10\n",
              "NotoSansOriyaUI-Thin        10\n",
              "Kodchasan-SemiBoldItalic    10\n",
              "AveriaSerifLibre-Ligh       10\n",
              "Name: names, Length: 2990, dtype: int64"
            ]
          },
          "metadata": {},
          "execution_count": 63
        }
      ]
    },
    {
      "cell_type": "markdown",
      "source": [
        "# Seperate Data to X and Y"
      ],
      "metadata": {
        "id": "C7YDCc2UQRu_"
      }
    },
    {
      "cell_type": "code",
      "source": [
        "X = data.drop(columns={'names','labels'})\n",
        "y = data[['labels']]"
      ],
      "metadata": {
        "execution": {
          "iopub.status.busy": "2022-04-02T01:06:43.571044Z",
          "iopub.execute_input": "2022-04-02T01:06:43.572991Z",
          "iopub.status.idle": "2022-04-02T01:06:44.313580Z",
          "shell.execute_reply.started": "2022-04-02T01:06:43.572901Z",
          "shell.execute_reply": "2022-04-02T01:06:44.312534Z"
        },
        "trusted": true,
        "id": "YzQl5FPjQRu_"
      },
      "execution_count": null,
      "outputs": []
    },
    {
      "cell_type": "markdown",
      "source": [
        "#Viewing Sample Data"
      ],
      "metadata": {
        "id": "L7Lio-gVl0ek"
      }
    },
    {
      "cell_type": "code",
      "source": [
        "import matplotlib.pyplot as plt\n",
        "\n",
        "X_images = X.values.reshape(-1,28,28)\n",
        "fig,axs = plt.subplots(2,9,figsize=(9,9))\n",
        "for i in range(18):\n",
        "    r=i//9\n",
        "    c=i%9\n",
        "    axs[r][c].set_xticks([])\n",
        "    axs[r][c].set_yticks([])\n",
        "    axs[r][c].imshow(X_images[i])\n",
        "plt.show()"
      ],
      "metadata": {
        "execution": {
          "iopub.status.busy": "2022-04-02T01:07:49.985554Z",
          "iopub.execute_input": "2022-04-02T01:07:49.985943Z",
          "iopub.status.idle": "2022-04-02T01:07:50.667439Z",
          "shell.execute_reply.started": "2022-04-02T01:07:49.985901Z",
          "shell.execute_reply": "2022-04-02T01:07:50.666860Z"
        },
        "trusted": true,
        "id": "iqPwR-cJQRvA",
        "colab": {
          "base_uri": "https://localhost:8080/",
          "height": 349
        },
        "outputId": "b5070f65-e1e7-4c21-9558-69c6a8f8c3f0"
      },
      "execution_count": null,
      "outputs": [
        {
          "output_type": "display_data",
          "data": {
            "text/plain": [
              "<Figure size 648x648 with 18 Axes>"
            ],
            "image/png": "[encoded data removed]"
          },
          "metadata": {}
        }
      ]
    },
    {
      "cell_type": "markdown",
      "source": [
        "# Seperating Training and Testing set"
      ],
      "metadata": {
        "id": "secNasSpQRvA"
      }
    },
    {
      "cell_type": "code",
      "source": [
        "from sklearn.model_selection import train_test_split\n",
        "# creating training set using 80% of data and test set using 20% of data.\n",
        "X_train, X_test, y_train, y_test = train_test_split(X, y, test_size=0.2)\n",
        "\n",
        "X_train = X_train.values.reshape(-1,28,28)\n",
        "X_test = X_test.values.reshape(-1,28,28)\n",
        "\n",
        "print(\"X_train shape : {}\".format(X_train.shape))\n",
        "\n",
        "print(\"X_test shape : {}\".format(X_test.shape))\n",
        "\n"
      ],
      "metadata": {
        "execution": {
          "iopub.status.busy": "2022-04-02T01:07:53.381232Z",
          "iopub.execute_input": "2022-04-02T01:07:53.382220Z",
          "iopub.status.idle": "2022-04-02T01:07:56.553166Z",
          "shell.execute_reply.started": "2022-04-02T01:07:53.382167Z",
          "shell.execute_reply": "2022-04-02T01:07:56.552326Z"
        },
        "trusted": true,
        "id": "QE2v0Hi0QRvA",
        "colab": {
          "base_uri": "https://localhost:8080/"
        },
        "outputId": "06cf27a6-4fa4-4438-9f8f-5285c44cefbc"
      },
      "execution_count": null,
      "outputs": [
        {
          "output_type": "stream",
          "name": "stdout",
          "text": [
            "X_train shape : (23920, 28, 28)\n",
            "X_test shape : (5980, 28, 28)\n"
          ]
        }
      ]
    },
    {
      "cell_type": "code",
      "source": [
        "data['labels'].unique()"
      ],
      "metadata": {
        "id": "FEdz5MtnZLzS",
        "colab": {
          "base_uri": "https://localhost:8080/"
        },
        "outputId": "c6c53229-9311-40c1-a7a9-d26719c37f22"
      },
      "execution_count": null,
      "outputs": [
        {
          "output_type": "execute_result",
          "data": {
            "text/plain": [
              "array([2, 8, 4, 3, 1, 6, 5, 9, 7, 0])"
            ]
          },
          "metadata": {},
          "execution_count": 67
        }
      ]
    },
    {
      "cell_type": "code",
      "source": [
        "data['labels'].nunique()"
      ],
      "metadata": {
        "id": "dWoO7hyxZUj7",
        "colab": {
          "base_uri": "https://localhost:8080/"
        },
        "outputId": "dc5e8dd9-9d73-4eab-a145-9e699a420900"
      },
      "execution_count": null,
      "outputs": [
        {
          "output_type": "execute_result",
          "data": {
            "text/plain": [
              "10"
            ]
          },
          "metadata": {},
          "execution_count": 68
        }
      ]
    },
    {
      "cell_type": "code",
      "source": [
        "# prepare target\n",
        "def prepare_targets(y_train, y_test):\n",
        "\tle = LabelEncoder()\n",
        "\tle.fit(y_train)\n",
        "\ty_train_enc = le.transform(y_train)\n",
        "\ty_test_enc = le.transform(y_test)\n",
        "\treturn y_train_enc, y_test_enc"
      ],
      "metadata": {
        "id": "h00cRFY6Vme0"
      },
      "execution_count": null,
      "outputs": []
    },
    {
      "cell_type": "markdown",
      "source": [
        "Transforming targets for better prediction"
      ],
      "metadata": {
        "id": "5lUkJUTDa1Oa"
      }
    },
    {
      "cell_type": "code",
      "source": [
        "y_train_enc,y_test_enc = prepare_targets(y_train,y_test)"
      ],
      "metadata": {
        "id": "tFb2UTWGddBs",
        "colab": {
          "base_uri": "https://localhost:8080/"
        },
        "outputId": "173e4888-a1eb-4e8b-802b-f8cba5912a02"
      },
      "execution_count": null,
      "outputs": [
        {
          "output_type": "stream",
          "name": "stderr",
          "text": [
            "/usr/local/lib/python3.7/dist-packages/sklearn/preprocessing/_label.py:98: DataConversionWarning: A column-vector y was passed when a 1d array was expected. Please change the shape of y to (n_samples, ), for example using ravel().\n",
            "  y = column_or_1d(y, warn=True)\n",
            "/usr/local/lib/python3.7/dist-packages/sklearn/preprocessing/_label.py:133: DataConversionWarning: A column-vector y was passed when a 1d array was expected. Please change the shape of y to (n_samples, ), for example using ravel().\n",
            "  y = column_or_1d(y, warn=True)\n"
          ]
        }
      ]
    },
    {
      "cell_type": "code",
      "source": [
        "X_train.shape, X_test.shape"
      ],
      "metadata": {
        "execution": {
          "iopub.status.busy": "2022-04-02T01:08:00.744091Z",
          "iopub.execute_input": "2022-04-02T01:08:00.744386Z",
          "iopub.status.idle": "2022-04-02T01:08:00.749847Z",
          "shell.execute_reply.started": "2022-04-02T01:08:00.744343Z",
          "shell.execute_reply": "2022-04-02T01:08:00.749261Z"
        },
        "trusted": true,
        "id": "rWgBzle8QRvA",
        "colab": {
          "base_uri": "https://localhost:8080/"
        },
        "outputId": "c2dfa99e-a096-470a-a829-20c5f100bcd6"
      },
      "execution_count": null,
      "outputs": [
        {
          "output_type": "execute_result",
          "data": {
            "text/plain": [
              "((23920, 28, 28), (5980, 28, 28))"
            ]
          },
          "metadata": {},
          "execution_count": 71
        }
      ]
    },
    {
      "cell_type": "code",
      "source": [
        "from tensorflow.keras.utils import to_categorical\n",
        "y_train_final = to_categorical(y_train_enc,10,dtype = 'int')\n",
        "y_test_final = to_categorical(y_test_enc,10,dtype = 'int')"
      ],
      "metadata": {
        "id": "jIfFlsSRd7Sz"
      },
      "execution_count": null,
      "outputs": []
    },
    {
      "cell_type": "code",
      "source": [
        "y_train_final.shape, y_test_final.shape"
      ],
      "metadata": {
        "execution": {
          "iopub.status.busy": "2022-04-02T01:08:02.738301Z",
          "iopub.execute_input": "2022-04-02T01:08:02.738720Z",
          "iopub.status.idle": "2022-04-02T01:08:02.746719Z",
          "shell.execute_reply.started": "2022-04-02T01:08:02.738681Z",
          "shell.execute_reply": "2022-04-02T01:08:02.745566Z"
        },
        "trusted": true,
        "id": "g8bDnnWGQRvA",
        "colab": {
          "base_uri": "https://localhost:8080/"
        },
        "outputId": "bb6e7939-b92c-44af-a2ad-61e61afbc648"
      },
      "execution_count": null,
      "outputs": [
        {
          "output_type": "execute_result",
          "data": {
            "text/plain": [
              "((23920, 10), (5980, 10))"
            ]
          },
          "metadata": {},
          "execution_count": 73
        }
      ]
    },
    {
      "cell_type": "markdown",
      "source": [
        "#Configuring input features for CNN."
      ],
      "metadata": {
        "id": "mQVQD5f3fcpc"
      }
    },
    {
      "cell_type": "code",
      "source": [
        "X_train = X_train.reshape(23920, 28, 28,1)\n",
        "X_test = X_test.reshape(5980, 28, 28,1)"
      ],
      "metadata": {
        "id": "6Fm4Wt5Kf3MH"
      },
      "execution_count": null,
      "outputs": []
    },
    {
      "cell_type": "code",
      "source": [
        "X_train.shape, X_test.shape"
      ],
      "metadata": {
        "id": "RO1afJxLgBn3",
        "colab": {
          "base_uri": "https://localhost:8080/"
        },
        "outputId": "6a66bbe9-41d2-4308-80cf-60648f7beb07"
      },
      "execution_count": null,
      "outputs": [
        {
          "output_type": "execute_result",
          "data": {
            "text/plain": [
              "((23920, 28, 28, 1), (5980, 28, 28, 1))"
            ]
          },
          "metadata": {},
          "execution_count": 75
        }
      ]
    },
    {
      "cell_type": "markdown",
      "source": [
        "# Normalizing the Dataset for the Neural Network"
      ],
      "metadata": {
        "id": "Z-CTtmAsQRvB"
      }
    },
    {
      "cell_type": "code",
      "source": [
        "X_train, X_test = X_train/255, X_test/255"
      ],
      "metadata": {
        "execution": {
          "iopub.status.busy": "2022-04-02T01:08:08.924559Z",
          "iopub.execute_input": "2022-04-02T01:08:08.924880Z",
          "iopub.status.idle": "2022-04-02T01:08:09.396896Z",
          "shell.execute_reply.started": "2022-04-02T01:08:08.924832Z",
          "shell.execute_reply": "2022-04-02T01:08:09.395774Z"
        },
        "trusted": true,
        "id": "Wt2nvbyhQRvB"
      },
      "execution_count": null,
      "outputs": []
    },
    {
      "cell_type": "markdown",
      "source": [
        "# Building Neural Network"
      ],
      "metadata": {
        "id": "YFi2OPaKQRvB"
      }
    },
    {
      "cell_type": "code",
      "source": [
        "import tensorflow as tf\n",
        "from tensorflow.keras import layers\n",
        "from tensorflow.keras.models import Sequential\n",
        "from tensorflow.keras.layers import Dense,BatchNormalization\n",
        "from sklearn.metrics import roc_auc_score, accuracy_score"
      ],
      "metadata": {
        "execution": {
          "iopub.status.busy": "2022-04-02T01:08:11.578195Z",
          "iopub.execute_input": "2022-04-02T01:08:11.578527Z",
          "iopub.status.idle": "2022-04-02T01:08:18.200779Z",
          "shell.execute_reply.started": "2022-04-02T01:08:11.578496Z",
          "shell.execute_reply": "2022-04-02T01:08:18.199872Z"
        },
        "trusted": true,
        "id": "u6a9Ltf1QRvB"
      },
      "execution_count": null,
      "outputs": []
    },
    {
      "cell_type": "code",
      "source": [
        "cnn = Sequential ()\n",
        "\n",
        "\n",
        "cnn.add(Conv2D(filters = 256 , kernel_size = (3,3) ,padding = 'same',input_shape=X_train.shape[1:]))\n",
        "cnn.add(BatchNormalization())\n",
        "cnn.add(tf.keras.layers.Activation('relu'))\n",
        "cnn.add(MaxPooling2D(pool_size = (2,2)))\n",
        "cnn.add(Dropout(0.25))\n",
        "\n",
        "cnn.add(Flatten())\n",
        "cnn.add(Dense(350))\n",
        "cnn.add(BatchNormalization())\n",
        "cnn.add(tf.keras.layers.Activation('relu'))\n",
        "cnn.add(Dropout(0.25))\n",
        "cnn.add(Flatten())\n",
        "\n",
        "cnn.add(Dense(y_train.nunique()[0], activation = 'softmax'))"
      ],
      "metadata": {
        "id": "aN8b5QORjDz7"
      },
      "execution_count": null,
      "outputs": []
    },
    {
      "cell_type": "code",
      "source": [
        "cnn.summary()"
      ],
      "metadata": {
        "colab": {
          "base_uri": "https://localhost:8080/"
        },
        "id": "hRa27ece6Cc5",
        "outputId": "8ea92345-7a04-46a6-a62f-c980abe041b6"
      },
      "execution_count": null,
      "outputs": [
        {
          "output_type": "stream",
          "name": "stdout",
          "text": [
            "Model: \"sequential_5\"\n",
            "_________________________________________________________________\n",
            " Layer (type)                Output Shape              Param #   \n",
            "=================================================================\n",
            " conv2d_5 (Conv2D)           (None, 28, 28, 256)       2560      \n",
            "                                                                 \n",
            " batch_normalization_8 (Batc  (None, 28, 28, 256)      1024      \n",
            " hNormalization)                                                 \n",
            "                                                                 \n",
            " activation_8 (Activation)   (None, 28, 28, 256)       0         \n",
            "                                                                 \n",
            " max_pooling2d_4 (MaxPooling  (None, 14, 14, 256)      0         \n",
            " 2D)                                                             \n",
            "                                                                 \n",
            " dropout_8 (Dropout)         (None, 14, 14, 256)       0         \n",
            "                                                                 \n",
            " flatten_6 (Flatten)         (None, 50176)             0         \n",
            "                                                                 \n",
            " dense_8 (Dense)             (None, 350)               17561950  \n",
            "                                                                 \n",
            " batch_normalization_9 (Batc  (None, 350)              1400      \n",
            " hNormalization)                                                 \n",
            "                                                                 \n",
            " activation_9 (Activation)   (None, 350)               0         \n",
            "                                                                 \n",
            " dropout_9 (Dropout)         (None, 350)               0         \n",
            "                                                                 \n",
            " flatten_7 (Flatten)         (None, 350)               0         \n",
            "                                                                 \n",
            " dense_9 (Dense)             (None, 10)                3510      \n",
            "                                                                 \n",
            "=================================================================\n",
            "Total params: 17,570,444\n",
            "Trainable params: 17,569,232\n",
            "Non-trainable params: 1,212\n",
            "_________________________________________________________________\n"
          ]
        }
      ]
    },
    {
      "cell_type": "markdown",
      "source": [
        "The Convolution model, passes the input matrix (28, 28, 1) through one convolution,dropout,flatten and pooling and outputs a matrix of (14, 14, 256), and then directly flattens the data, The output dimension of the last   layer is 10, which is 0 to 9 .  Softmax activation function was used in order obtain most probable output for a given input, and for activation Relu was used in every individual layer."
      ],
      "metadata": {
        "id": "YGJ42j57fuFH"
      }
    },
    {
      "cell_type": "markdown",
      "source": [
        "The default MaxPooling kernel has a shape of (2, 2) and strides of (2, 2). Applying that to a (28, 28) image results in an image of shape (((28 - 2)//2) + 1, ((28 - 2)//2) + 1)) = (14, 14).\n",
        "\n",
        "This pattern can be extended to all Conv2D and MaxPooling layers.\n",
        "\n",
        "The Flatten layer takes all pixels along all channels and creates a 1D vector (not considering batch size). Therefore, an input of (14, 14, 256) is flattened to (14 * 14 * 256) = 50176 values."
      ],
      "metadata": {
        "id": "qDs9dB9SiCJd"
      }
    },
    {
      "cell_type": "code",
      "source": [
        "cnn.compile(optimizer='adam',loss='categorical_crossentropy',metrics=['accuracy'])"
      ],
      "metadata": {
        "id": "O8xcgSwchClZ"
      },
      "execution_count": null,
      "outputs": []
    },
    {
      "cell_type": "markdown",
      "source": [
        "# Configure the model and start training"
      ],
      "metadata": {
        "id": "DpCQVilAQRvC"
      }
    },
    {
      "cell_type": "code",
      "source": [
        "callback = tf.keras.callbacks.EarlyStopping(monitor='val_loss', patience=3)\n",
        "\n",
        "history = cnn.fit(X_train, y_train_final, epochs=20, batch_size=10,callbacks=[callback], verbose=1, validation_split=0.15)"
      ],
      "metadata": {
        "execution": {
          "iopub.status.busy": "2022-04-02T01:08:34.990670Z",
          "iopub.execute_input": "2022-04-02T01:08:34.991022Z",
          "iopub.status.idle": "2022-04-02T01:25:07.853947Z",
          "shell.execute_reply.started": "2022-04-02T01:08:34.990986Z",
          "shell.execute_reply": "2022-04-02T01:25:07.853226Z"
        },
        "trusted": true,
        "id": "j1ye6S_lQRvC",
        "colab": {
          "base_uri": "https://localhost:8080/"
        },
        "outputId": "53f30180-860d-40b0-fd8f-7f6dafd6c4d1"
      },
      "execution_count": null,
      "outputs": [
        {
          "output_type": "stream",
          "name": "stdout",
          "text": [
            "Epoch 1/20\n",
            "2034/2034 [==============================] - 407s 200ms/step - loss: 0.1689 - accuracy: 0.9493 - val_loss: 0.0868 - val_accuracy: 0.9749\n",
            "Epoch 2/20\n",
            "2034/2034 [==============================] - 404s 198ms/step - loss: 0.0828 - accuracy: 0.9760 - val_loss: 0.0573 - val_accuracy: 0.9830\n",
            "Epoch 3/20\n",
            "2034/2034 [==============================] - 401s 197ms/step - loss: 0.0679 - accuracy: 0.9794 - val_loss: 0.0644 - val_accuracy: 0.9810\n",
            "Epoch 4/20\n",
            "2034/2034 [==============================] - 398s 196ms/step - loss: 0.0508 - accuracy: 0.9836 - val_loss: 0.0613 - val_accuracy: 0.9833\n",
            "Epoch 5/20\n",
            "2034/2034 [==============================] - 396s 195ms/step - loss: 0.0476 - accuracy: 0.9841 - val_loss: 0.0630 - val_accuracy: 0.9849\n"
          ]
        }
      ]
    },
    {
      "cell_type": "markdown",
      "source": [
        "# Model Test after train"
      ],
      "metadata": {
        "id": "Q7zRYy07QRvC"
      }
    },
    {
      "cell_type": "code",
      "source": [
        "test_results = cnn.evaluate(X_test, y_test_final, verbose=1)\n",
        "print(f'Testing set results - Accuracy: {test_results[1]}%')"
      ],
      "metadata": {
        "execution": {
          "iopub.status.busy": "2022-04-02T01:29:10.449024Z",
          "iopub.execute_input": "2022-04-02T01:29:10.450061Z",
          "iopub.status.idle": "2022-04-02T01:29:16.978078Z",
          "shell.execute_reply.started": "2022-04-02T01:29:10.449993Z",
          "shell.execute_reply": "2022-04-02T01:29:16.977103Z"
        },
        "trusted": true,
        "id": "H_ybiuRoQRvC",
        "colab": {
          "base_uri": "https://localhost:8080/"
        },
        "outputId": "5d68d372-d07f-4422-dffe-f98b8b82849f"
      },
      "execution_count": null,
      "outputs": [
        {
          "output_type": "stream",
          "name": "stdout",
          "text": [
            "187/187 [==============================] - 12s 66ms/step - loss: 0.0414 - accuracy: 0.9881\n",
            "Testing set results - Accuracy: 0.9881271123886108%\n"
          ]
        }
      ]
    },
    {
      "cell_type": "code",
      "source": [
        "# summarize history for accuracy\n",
        "plt.plot(history.history['accuracy'])\n",
        "plt.plot(history.history['val_accuracy'])\n",
        "plt.title('model accuracy')\n",
        "plt.ylabel('accuracy')\n",
        "plt.xlabel('epoch')\n",
        "plt.legend(['train', 'test'], loc='upper left')\n",
        "plt.show()\n",
        "# summarize history for loss\n",
        "plt.plot(history.history['loss'])\n",
        "plt.plot(history.history['val_loss'])\n",
        "plt.title('model loss')\n",
        "plt.ylabel('loss')\n",
        "plt.xlabel('epoch')\n",
        "plt.legend(['train', 'test'], loc='upper left')\n",
        "plt.show()"
      ],
      "metadata": {
        "colab": {
          "base_uri": "https://localhost:8080/",
          "height": 573
        },
        "id": "31r5SuYJ5QEt",
        "outputId": "9d73dbaa-d0f7-4f31-c5ba-4514fa8f14be"
      },
      "execution_count": null,
      "outputs": [
        {
          "output_type": "display_data",
          "data": {
            "text/plain": [
              "<Figure size 432x288 with 1 Axes>"
            ],
            "image/png": "[encoded data removed]"
          },
          "metadata": {
            "needs_background": "light"
          }
        },
        {
          "output_type": "display_data",
          "data": {
            "text/plain": [
              "<Figure size 432x288 with 1 Axes>"
            ],
            "image/png": "[encoded data removed]"
          },
          "metadata": {
            "needs_background": "light"
          }
        }
      ]
    },
    {
      "cell_type": "markdown",
      "source": [
        "#Conclusion"
      ],
      "metadata": {
        "id": "R5DTe2w5i0Qf"
      }
    },
    {
      "cell_type": "markdown",
      "source": [
        "After 5 rounds, The training accuracy has reached 98.41 and testing has reached 98.81"
      ],
      "metadata": {
        "id": "IjOdnJbci3JF"
      }
    },
    {
      "cell_type": "code",
      "source": [
        ""
      ],
      "metadata": {
        "id": "2Wgv7zFj5_QY"
      },
      "execution_count": null,
      "outputs": []
    }
  ]
}